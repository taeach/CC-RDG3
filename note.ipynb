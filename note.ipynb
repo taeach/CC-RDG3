{
 "cells": [
  {
   "cell_type": "code",
   "execution_count": 1,
   "metadata": {},
   "outputs": [],
   "source": [
    "from logger import Stdio\n",
    "import os\n",
    "import pandas as pd\n",
    "import csv\n",
    "import numpy as np"
   ]
  },
  {
   "cell_type": "code",
   "execution_count": 4,
   "metadata": {},
   "outputs": [],
   "source": [
    "env_path = r'..\\_env_easy'\n",
    "prob_name = '4-bitAdder'\n",
    "prob_path  = os.path.join(env_path, prob_name)\n",
    "cells_path = os.path.join(prob_path, 'cells.csv')\n",
    "blank_path = os.path.join(prob_path, 'blank.csv')"
   ]
  },
  {
   "cell_type": "code",
   "execution_count": 5,
   "metadata": {},
   "outputs": [
    {
     "data": {
      "text/plain": [
       "{1: ['1_data_a[0]',\n",
       "  '1_data_a[1]',\n",
       "  '1_data_a[2]',\n",
       "  '1_data_a[3]',\n",
       "  '1_data_b[0]',\n",
       "  '1_data_b[1]',\n",
       "  '1_data_b[2]',\n",
       "  '1_data_b[3]'],\n",
       " 2: ['2_autoCreatedSpl2id1',\n",
       "  '2_autoCreatedSpl2id2',\n",
       "  '2_autoCreatedSpl2id3',\n",
       "  '2_autoCreatedSpl2id4',\n",
       "  '2_autoCreatedSpl2id9',\n",
       "  '2_autoCreatedSpl2id10',\n",
       "  '2_autoCreatedSpl2id15',\n",
       "  '2_autoCreatedSpl2id16'],\n",
       " 3: ['3_and_bb_19_',\n",
       "  '3_or_bb_20_',\n",
       "  '3_or_ii_21_',\n",
       "  '3_or_ii_27_',\n",
       "  '3_or_bb_28_',\n",
       "  '3_and_bb_34_',\n",
       "  '3_or_bb_35_',\n",
       "  '3_or_bb_40_'],\n",
       " 4: ['4_autoCreatedSpl2id5',\n",
       "  '4_autoCreatedSpl2id11',\n",
       "  '4_autoCreatedSpl2id17',\n",
       "  '4_autoCreatedSpl2id21',\n",
       "  '4_bfr_autonet1_',\n",
       "  '4_bfr_autonet11_',\n",
       "  '4_bfr_autonet21_',\n",
       "  '4_bfr_autonet31_'],\n",
       " 5: ['5_or_ii_22_',\n",
       "  '5_or_ii_29_',\n",
       "  '5_or_bi_36_',\n",
       "  '5_and_bi_41_',\n",
       "  '5_bfr_autonet44_',\n",
       "  '5_bfr_autonet48_',\n",
       "  '5_bfr_autonet56_',\n",
       "  '5_bfr_autonet68_'],\n",
       " 6: ['6_autoCreatedSpl2id7',\n",
       "  '6_autoCreatedSpl2id22',\n",
       "  '6_bfr_autonet12_',\n",
       "  '6_bfr_autonet22_',\n",
       "  '6_bfr_autonet32_',\n",
       "  '6_bfr_autonet45_',\n",
       "  '6_bfr_autonet49_',\n",
       "  '6_bfr_autonet57_'],\n",
       " 7: ['7_and_bi_23_',\n",
       "  '7_or_bi_24_',\n",
       "  '7_bfr_autonet13_',\n",
       "  '7_bfr_autonet23_',\n",
       "  '7_bfr_autonet33_',\n",
       "  '7_bfr_autonet46_',\n",
       "  '7_bfr_autonet50_',\n",
       "  '7_bfr_autonet58_'],\n",
       " 8: ['8_autoCreatedSpl2id8',\n",
       "  '8_bfr_autonet2_',\n",
       "  '8_bfr_autonet14_',\n",
       "  '8_bfr_autonet24_',\n",
       "  '8_bfr_autonet34_',\n",
       "  '8_bfrautoSplNet10',\n",
       "  '8_bfr_autonet51_',\n",
       "  '8_bfr_autonet59_'],\n",
       " 9: ['9_and_bi_25_',\n",
       "  '9_or_bi_26_',\n",
       "  '9_bfr_09_',\n",
       "  '9_bfr_autonet25_',\n",
       "  '9_bfr_autonet35_',\n",
       "  '9_bfr_autonet52_',\n",
       "  '9_bfr_autonet60_'],\n",
       " 10: ['10_autoCreatedSpl2id12',\n",
       "  '10_autoCreatedSpl2id13',\n",
       "  '10_bfr_autonet3_',\n",
       "  '10_bfr_autonet26_',\n",
       "  '10_bfr_autonet36_',\n",
       "  '10_bfr_autonet53_',\n",
       "  '10_bfr_autonet61_'],\n",
       " 11: ['11_and_bi_30_',\n",
       "  '11_or_bi_31_',\n",
       "  '11_bfr_autonet4_',\n",
       "  '11_bfr_autonet27_',\n",
       "  '11_bfr_autonet37_',\n",
       "  '11_bfr_autonet54_',\n",
       "  '11_bfr_autonet62_'],\n",
       " 12: ['12_autoCreatedSpl2id14',\n",
       "  '12_bfr_autonet5_',\n",
       "  '12_bfr_autonet16_',\n",
       "  '12_bfr_autonet28_',\n",
       "  '12_bfr_autonet38_',\n",
       "  '12_bfrautoSplNet23',\n",
       "  '12_bfr_autonet63_'],\n",
       " 13: ['13_and_bi_32_',\n",
       "  '13_or_bi_33_',\n",
       "  '13_bfr_autonet6_',\n",
       "  '13_bfr_15_',\n",
       "  '13_bfr_autonet39_',\n",
       "  '13_bfr_autonet64_'],\n",
       " 14: ['14_autoCreatedSpl2id18',\n",
       "  '14_autoCreatedSpl2id19',\n",
       "  '14_bfr_autonet7_',\n",
       "  '14_bfr_autonet17_',\n",
       "  '14_bfr_autonet40_',\n",
       "  '14_bfr_autonet65_'],\n",
       " 15: ['15_and_bi_37_',\n",
       "  '15_or_bi_38_',\n",
       "  '15_bfr_autonet8_',\n",
       "  '15_bfr_autonet18_',\n",
       "  '15_bfr_autonet41_',\n",
       "  '15_bfr_autonet66_'],\n",
       " 16: ['16_autoCreatedSpl2id20',\n",
       "  '16_bfr_autonet9_',\n",
       "  '16_bfr_autonet19_',\n",
       "  '16_bfr_autonet30_',\n",
       "  '16_bfr_autonet42_',\n",
       "  '16_bfrautoSplNet35'],\n",
       " 17: ['17_and_bi_39_',\n",
       "  '17_or_bb_42_',\n",
       "  '17_bfrresult[1]',\n",
       "  '17_bfrresult[2]',\n",
       "  '17_bfrresult[0]'],\n",
       " 18: ['18_result[0]',\n",
       "  '18_result[1]',\n",
       "  '18_result[2]',\n",
       "  '18_result[3]',\n",
       "  '18_result[4]']}"
      ]
     },
     "execution_count": 5,
     "metadata": {},
     "output_type": "execute_result"
    }
   ],
   "source": [
    "n_col = Stdio.getNumberOfColumns(cells_path)\n",
    "df_col = ['family', 'instance-name', 'phase'] + [ 'wireName_{}'.format(i) for i in range(n_col-3)]\n",
    "df = Stdio.readDatabase(cells_path, index_col=None, names=df_col, header=None)\n",
    "# generate phase offset\n",
    "offset = 1 if 0 in set(df['phase']) else 0\n",
    "domain = {}\n",
    "for phase in set(df['phase']):\n",
    "    cellnames = df.query(f'phase=={phase}')['instance-name'].to_list()\n",
    "    for n,cellname in enumerate(cellnames):\n",
    "        if not cellname.startswith(f'{phase+offset}_'):\n",
    "            cellnames[n] = f'{phase+offset}_{cellnames[n]}'\n",
    "    domain[phase+offset] = cellnames\n",
    "domain"
   ]
  },
  {
   "cell_type": "code",
   "execution_count": 6,
   "metadata": {},
   "outputs": [
    {
     "data": {
      "text/plain": [
       "[['1_data_a[0]',\n",
       "  '1_data_a[1]',\n",
       "  '1_data_a[2]',\n",
       "  '1_data_a[3]',\n",
       "  '1_data_b[0]',\n",
       "  '1_data_b[1]',\n",
       "  '1_data_b[2]',\n",
       "  '1_data_b[3]'],\n",
       " ['2_autoCreatedSpl2id1',\n",
       "  '2_autoCreatedSpl2id2',\n",
       "  '2_autoCreatedSpl2id3',\n",
       "  '2_autoCreatedSpl2id4',\n",
       "  '2_autoCreatedSpl2id9',\n",
       "  '2_autoCreatedSpl2id10',\n",
       "  '2_autoCreatedSpl2id15',\n",
       "  '2_autoCreatedSpl2id16'],\n",
       " ['3_and_bb_19_',\n",
       "  '3_or_bb_20_',\n",
       "  '3_or_ii_21_',\n",
       "  '3_or_ii_27_',\n",
       "  '3_or_bb_28_',\n",
       "  '3_and_bb_34_',\n",
       "  '3_or_bb_35_',\n",
       "  '3_or_bb_40_'],\n",
       " ['4_autoCreatedSpl2id5',\n",
       "  '4_autoCreatedSpl2id11',\n",
       "  '4_autoCreatedSpl2id17',\n",
       "  '4_autoCreatedSpl2id21',\n",
       "  '4_bfr_autonet1_',\n",
       "  '4_bfr_autonet11_',\n",
       "  '4_bfr_autonet21_',\n",
       "  '4_bfr_autonet31_'],\n",
       " ['5_or_ii_22_',\n",
       "  '5_or_ii_29_',\n",
       "  '5_or_bi_36_',\n",
       "  '5_and_bi_41_',\n",
       "  '5_bfr_autonet44_',\n",
       "  '5_bfr_autonet48_',\n",
       "  '5_bfr_autonet56_',\n",
       "  '5_bfr_autonet68_'],\n",
       " ['6_autoCreatedSpl2id7',\n",
       "  '6_autoCreatedSpl2id22',\n",
       "  '6_bfr_autonet12_',\n",
       "  '6_bfr_autonet22_',\n",
       "  '6_bfr_autonet32_',\n",
       "  '6_bfr_autonet45_',\n",
       "  '6_bfr_autonet49_',\n",
       "  '6_bfr_autonet57_'],\n",
       " ['7_and_bi_23_',\n",
       "  '7_or_bi_24_',\n",
       "  '7_bfr_autonet13_',\n",
       "  '7_bfr_autonet23_',\n",
       "  '7_bfr_autonet33_',\n",
       "  '7_bfr_autonet46_',\n",
       "  '7_bfr_autonet50_',\n",
       "  '7_bfr_autonet58_'],\n",
       " ['8_autoCreatedSpl2id8',\n",
       "  '8_bfr_autonet2_',\n",
       "  '8_bfr_autonet14_',\n",
       "  '8_bfr_autonet24_',\n",
       "  '8_bfr_autonet34_',\n",
       "  '8_bfrautoSplNet10',\n",
       "  '8_bfr_autonet51_',\n",
       "  '8_bfr_autonet59_'],\n",
       " ['9_and_bi_25_',\n",
       "  '9_or_bi_26_',\n",
       "  '9_bfr_09_',\n",
       "  '9_bfr_autonet25_',\n",
       "  '9_bfr_autonet35_',\n",
       "  '9_bfr_autonet52_',\n",
       "  '9_bfr_autonet60_'],\n",
       " ['10_autoCreatedSpl2id12',\n",
       "  '10_autoCreatedSpl2id13',\n",
       "  '10_bfr_autonet3_',\n",
       "  '10_bfr_autonet26_',\n",
       "  '10_bfr_autonet36_',\n",
       "  '10_bfr_autonet53_',\n",
       "  '10_bfr_autonet61_'],\n",
       " ['11_and_bi_30_',\n",
       "  '11_or_bi_31_',\n",
       "  '11_bfr_autonet4_',\n",
       "  '11_bfr_autonet27_',\n",
       "  '11_bfr_autonet37_',\n",
       "  '11_bfr_autonet54_',\n",
       "  '11_bfr_autonet62_'],\n",
       " ['12_autoCreatedSpl2id14',\n",
       "  '12_bfr_autonet5_',\n",
       "  '12_bfr_autonet16_',\n",
       "  '12_bfr_autonet28_',\n",
       "  '12_bfr_autonet38_',\n",
       "  '12_bfrautoSplNet23',\n",
       "  '12_bfr_autonet63_'],\n",
       " ['13_and_bi_32_',\n",
       "  '13_or_bi_33_',\n",
       "  '13_bfr_autonet6_',\n",
       "  '13_bfr_15_',\n",
       "  '13_bfr_autonet39_',\n",
       "  '13_bfr_autonet64_'],\n",
       " ['14_autoCreatedSpl2id18',\n",
       "  '14_autoCreatedSpl2id19',\n",
       "  '14_bfr_autonet7_',\n",
       "  '14_bfr_autonet17_',\n",
       "  '14_bfr_autonet40_',\n",
       "  '14_bfr_autonet65_'],\n",
       " ['15_and_bi_37_',\n",
       "  '15_or_bi_38_',\n",
       "  '15_bfr_autonet8_',\n",
       "  '15_bfr_autonet18_',\n",
       "  '15_bfr_autonet41_',\n",
       "  '15_bfr_autonet66_'],\n",
       " ['16_autoCreatedSpl2id20',\n",
       "  '16_bfr_autonet9_',\n",
       "  '16_bfr_autonet19_',\n",
       "  '16_bfr_autonet30_',\n",
       "  '16_bfr_autonet42_',\n",
       "  '16_bfrautoSplNet35'],\n",
       " ['17_and_bi_39_',\n",
       "  '17_or_bb_42_',\n",
       "  '17_bfrresult[1]',\n",
       "  '17_bfrresult[2]',\n",
       "  '17_bfrresult[0]'],\n",
       " ['18_result[0]',\n",
       "  '18_result[1]',\n",
       "  '18_result[2]',\n",
       "  '18_result[3]',\n",
       "  '18_result[4]']]"
      ]
     },
     "execution_count": 6,
     "metadata": {},
     "output_type": "execute_result"
    }
   ],
   "source": [
    "x = [ _dom for _dom in domain.values() ]\n",
    "x"
   ]
  },
  {
   "cell_type": "code",
   "execution_count": 7,
   "metadata": {},
   "outputs": [
    {
     "data": {
      "text/plain": [
       "[['data_a[0]',\n",
       "  'data_a[1]',\n",
       "  'data_a[2]',\n",
       "  'data_a[3]',\n",
       "  'data_b[0]',\n",
       "  'data_b[1]',\n",
       "  'data_b[2]',\n",
       "  'data_b[3]'],\n",
       " ['autoCreatedSpl2id1',\n",
       "  'autoCreatedSpl2id2',\n",
       "  'autoCreatedSpl2id3',\n",
       "  'autoCreatedSpl2id4',\n",
       "  'autoCreatedSpl2id9',\n",
       "  'autoCreatedSpl2id10',\n",
       "  'autoCreatedSpl2id15',\n",
       "  'autoCreatedSpl2id16'],\n",
       " ['and_bb_19_',\n",
       "  'or_bb_20_',\n",
       "  'or_ii_21_',\n",
       "  'or_ii_27_',\n",
       "  'or_bb_28_',\n",
       "  'and_bb_34_',\n",
       "  'or_bb_35_',\n",
       "  'or_bb_40_'],\n",
       " ['autoCreatedSpl2id5',\n",
       "  'autoCreatedSpl2id11',\n",
       "  'autoCreatedSpl2id17',\n",
       "  'autoCreatedSpl2id21',\n",
       "  'bfr_autonet1_',\n",
       "  'bfr_autonet11_',\n",
       "  'bfr_autonet21_',\n",
       "  'bfr_autonet31_'],\n",
       " ['or_ii_22_',\n",
       "  'or_ii_29_',\n",
       "  'or_bi_36_',\n",
       "  'and_bi_41_',\n",
       "  'bfr_autonet44_',\n",
       "  'bfr_autonet48_',\n",
       "  'bfr_autonet56_',\n",
       "  'bfr_autonet68_'],\n",
       " ['autoCreatedSpl2id7',\n",
       "  'autoCreatedSpl2id22',\n",
       "  'bfr_autonet12_',\n",
       "  'bfr_autonet22_',\n",
       "  'bfr_autonet32_',\n",
       "  'bfr_autonet45_',\n",
       "  'bfr_autonet49_',\n",
       "  'bfr_autonet57_'],\n",
       " ['and_bi_23_',\n",
       "  'or_bi_24_',\n",
       "  'bfr_autonet13_',\n",
       "  'bfr_autonet23_',\n",
       "  'bfr_autonet33_',\n",
       "  'bfr_autonet46_',\n",
       "  'bfr_autonet50_',\n",
       "  'bfr_autonet58_'],\n",
       " ['autoCreatedSpl2id8',\n",
       "  'bfr_autonet2_',\n",
       "  'bfr_autonet14_',\n",
       "  'bfr_autonet24_',\n",
       "  'bfr_autonet34_',\n",
       "  'bfrautoSplNet10',\n",
       "  'bfr_autonet51_',\n",
       "  'bfr_autonet59_'],\n",
       " ['and_bi_25_',\n",
       "  'or_bi_26_',\n",
       "  'bfr_09_',\n",
       "  'bfr_autonet25_',\n",
       "  'bfr_autonet35_',\n",
       "  'bfr_autonet52_',\n",
       "  'bfr_autonet60_'],\n",
       " ['autoCreatedSpl2id12',\n",
       "  'autoCreatedSpl2id13',\n",
       "  'bfr_autonet3_',\n",
       "  'bfr_autonet26_',\n",
       "  'bfr_autonet36_',\n",
       "  'bfr_autonet53_',\n",
       "  'bfr_autonet61_'],\n",
       " ['and_bi_30_',\n",
       "  'or_bi_31_',\n",
       "  'bfr_autonet4_',\n",
       "  'bfr_autonet27_',\n",
       "  'bfr_autonet37_',\n",
       "  'bfr_autonet54_',\n",
       "  'bfr_autonet62_'],\n",
       " ['autoCreatedSpl2id14',\n",
       "  'bfr_autonet5_',\n",
       "  'bfr_autonet16_',\n",
       "  'bfr_autonet28_',\n",
       "  'bfr_autonet38_',\n",
       "  'bfrautoSplNet23',\n",
       "  'bfr_autonet63_'],\n",
       " ['and_bi_32_',\n",
       "  'or_bi_33_',\n",
       "  'bfr_autonet6_',\n",
       "  'bfr_15_',\n",
       "  'bfr_autonet39_',\n",
       "  'bfr_autonet64_'],\n",
       " ['autoCreatedSpl2id18',\n",
       "  'autoCreatedSpl2id19',\n",
       "  'bfr_autonet7_',\n",
       "  'bfr_autonet17_',\n",
       "  'bfr_autonet40_',\n",
       "  'bfr_autonet65_'],\n",
       " ['and_bi_37_',\n",
       "  'or_bi_38_',\n",
       "  'bfr_autonet8_',\n",
       "  'bfr_autonet18_',\n",
       "  'bfr_autonet41_',\n",
       "  'bfr_autonet66_'],\n",
       " ['autoCreatedSpl2id20',\n",
       "  'bfr_autonet9_',\n",
       "  'bfr_autonet19_',\n",
       "  'bfr_autonet30_',\n",
       "  'bfr_autonet42_',\n",
       "  'bfrautoSplNet35'],\n",
       " ['and_bi_39_', 'or_bb_42_', 'bfrresult[1]', 'bfrresult[2]', 'bfrresult[0]'],\n",
       " ['result[0]', 'result[1]', 'result[2]', 'result[3]', 'result[4]']]"
      ]
     },
     "execution_count": 7,
     "metadata": {},
     "output_type": "execute_result"
    }
   ],
   "source": [
    "import re\n",
    "\n",
    "for layer,x_layer in enumerate(x):\n",
    "    for cell, x_cell in enumerate(x_layer):\n",
    "        if x_cell.startswith(f'{layer+1}_'):\n",
    "            # x[layer][cell] = x[layer][cell].removeprefix(f'{layer+1}_')\n",
    "            x[layer][cell] = re.sub('^(\\d+)_','',x[layer][cell])\n",
    "x"
   ]
  },
  {
   "cell_type": "code",
   "execution_count": 47,
   "metadata": {},
   "outputs": [
    {
     "data": {
      "text/plain": [
       "['a', 'f', 'e']"
      ]
     },
     "execution_count": 47,
     "metadata": {},
     "output_type": "execute_result"
    }
   ],
   "source": [
    "s = ['a','b','c','d','e','f']\n",
    "edge1_1 = 0\n",
    "edge1_2 = 1\n",
    "edge2_1 = 3\n",
    "edge2_2 = 4\n",
    "x2 = s[edge2_2:]\n",
    "x2.extend(s[:edge1_1+1])\n",
    "x2[::-1]"
   ]
  },
  {
   "cell_type": "code",
   "execution_count": 52,
   "metadata": {},
   "outputs": [
    {
     "name": "stdout",
     "output_type": "stream",
     "text": [
      "['autoCreatedSpl2id7',\n",
      " 'autoCreatedSpl2id22',\n",
      " 'bfr_autonet12_',\n",
      " 'bfr_autonet22_',\n",
      " 'bfr_autonet32_',\n",
      " 'bfr_autonet45_',\n",
      " 'bfr_autonet49_',\n",
      " 'bfr_autonet57_']\n",
      "** [1] **\n",
      "['autoCreatedSpl2id7', 'autoCreatedSpl2id22', 'bfr_autonet12_', 'bfr_autonet22_', 'bfr_autonet32_', 'bfr_autonet45_', 'bfr_autonet49_', 'bfr_autonet57_']\n",
      "['autoCreatedSpl2id7', 'bfr_autonet12_', 'autoCreatedSpl2id22', 'bfr_autonet22_', 'bfr_autonet32_', 'bfr_autonet45_', 'bfr_autonet49_', 'bfr_autonet57_']\n",
      "** [2] **\n",
      "['autoCreatedSpl2id7', 'autoCreatedSpl2id22', 'bfr_autonet12_', 'bfr_autonet22_', 'bfr_autonet32_', 'bfr_autonet45_', 'bfr_autonet49_', 'bfr_autonet57_']\n",
      "['autoCreatedSpl2id7', 'bfr_autonet22_', 'bfr_autonet12_', 'autoCreatedSpl2id22', 'bfr_autonet32_', 'bfr_autonet45_', 'bfr_autonet49_', 'bfr_autonet57_']\n",
      "** [3] **\n",
      "['autoCreatedSpl2id7', 'autoCreatedSpl2id22', 'bfr_autonet12_', 'bfr_autonet22_', 'bfr_autonet32_', 'bfr_autonet45_', 'bfr_autonet49_', 'bfr_autonet57_']\n",
      "['autoCreatedSpl2id7', 'bfr_autonet32_', 'bfr_autonet22_', 'bfr_autonet12_', 'autoCreatedSpl2id22', 'bfr_autonet45_', 'bfr_autonet49_', 'bfr_autonet57_']\n",
      "** [4] **\n",
      "['autoCreatedSpl2id7', 'autoCreatedSpl2id22', 'bfr_autonet12_', 'bfr_autonet22_', 'bfr_autonet32_', 'bfr_autonet45_', 'bfr_autonet49_', 'bfr_autonet57_']\n",
      "['autoCreatedSpl2id7', 'bfr_autonet45_', 'bfr_autonet32_', 'bfr_autonet22_', 'bfr_autonet12_', 'autoCreatedSpl2id22', 'bfr_autonet49_', 'bfr_autonet57_']\n",
      "** [5] **\n",
      "['autoCreatedSpl2id7', 'autoCreatedSpl2id22', 'bfr_autonet12_', 'bfr_autonet22_', 'bfr_autonet32_', 'bfr_autonet45_', 'bfr_autonet49_', 'bfr_autonet57_']\n",
      "['autoCreatedSpl2id7', 'bfr_autonet49_', 'bfr_autonet45_', 'bfr_autonet32_', 'bfr_autonet22_', 'bfr_autonet12_', 'autoCreatedSpl2id22', 'bfr_autonet57_']\n",
      "** [6] **\n",
      "['autoCreatedSpl2id7', 'autoCreatedSpl2id22', 'bfr_autonet12_', 'bfr_autonet22_', 'bfr_autonet32_', 'bfr_autonet45_', 'bfr_autonet49_', 'bfr_autonet57_']\n",
      "['autoCreatedSpl2id7', 'bfr_autonet57_', 'bfr_autonet49_', 'bfr_autonet45_', 'bfr_autonet32_', 'bfr_autonet22_', 'bfr_autonet12_', 'autoCreatedSpl2id22']\n",
      "** [8] **\n",
      "['autoCreatedSpl2id7', 'autoCreatedSpl2id22', 'bfr_autonet12_', 'bfr_autonet22_', 'bfr_autonet32_', 'bfr_autonet45_', 'bfr_autonet49_', 'bfr_autonet57_']\n",
      "['autoCreatedSpl2id7', 'autoCreatedSpl2id22', 'bfr_autonet22_', 'bfr_autonet12_', 'bfr_autonet32_', 'bfr_autonet45_', 'bfr_autonet49_', 'bfr_autonet57_']\n",
      "** [9] **\n",
      "['autoCreatedSpl2id7', 'autoCreatedSpl2id22', 'bfr_autonet12_', 'bfr_autonet22_', 'bfr_autonet32_', 'bfr_autonet45_', 'bfr_autonet49_', 'bfr_autonet57_']\n",
      "['autoCreatedSpl2id7', 'autoCreatedSpl2id22', 'bfr_autonet32_', 'bfr_autonet22_', 'bfr_autonet12_', 'bfr_autonet45_', 'bfr_autonet49_', 'bfr_autonet57_']\n",
      "** [10] **\n",
      "['autoCreatedSpl2id7', 'autoCreatedSpl2id22', 'bfr_autonet12_', 'bfr_autonet22_', 'bfr_autonet32_', 'bfr_autonet45_', 'bfr_autonet49_', 'bfr_autonet57_']\n",
      "['autoCreatedSpl2id7', 'autoCreatedSpl2id22', 'bfr_autonet45_', 'bfr_autonet32_', 'bfr_autonet22_', 'bfr_autonet12_', 'bfr_autonet49_', 'bfr_autonet57_']\n",
      "** [11] **\n",
      "['autoCreatedSpl2id7', 'autoCreatedSpl2id22', 'bfr_autonet12_', 'bfr_autonet22_', 'bfr_autonet32_', 'bfr_autonet45_', 'bfr_autonet49_', 'bfr_autonet57_']\n",
      "['autoCreatedSpl2id7', 'autoCreatedSpl2id22', 'bfr_autonet49_', 'bfr_autonet45_', 'bfr_autonet32_', 'bfr_autonet22_', 'bfr_autonet12_', 'bfr_autonet57_']\n",
      "** [12] **\n",
      "['autoCreatedSpl2id7', 'autoCreatedSpl2id22', 'bfr_autonet12_', 'bfr_autonet22_', 'bfr_autonet32_', 'bfr_autonet45_', 'bfr_autonet49_', 'bfr_autonet57_']\n",
      "['autoCreatedSpl2id7', 'autoCreatedSpl2id22', 'bfr_autonet57_', 'bfr_autonet49_', 'bfr_autonet45_', 'bfr_autonet32_', 'bfr_autonet22_', 'bfr_autonet12_']\n",
      "** [14] **\n",
      "['autoCreatedSpl2id7', 'autoCreatedSpl2id22', 'bfr_autonet12_', 'bfr_autonet22_', 'bfr_autonet32_', 'bfr_autonet45_', 'bfr_autonet49_', 'bfr_autonet57_']\n",
      "['autoCreatedSpl2id7', 'autoCreatedSpl2id22', 'bfr_autonet12_', 'bfr_autonet32_', 'bfr_autonet22_', 'bfr_autonet45_', 'bfr_autonet49_', 'bfr_autonet57_']\n",
      "** [15] **\n",
      "['autoCreatedSpl2id7', 'autoCreatedSpl2id22', 'bfr_autonet12_', 'bfr_autonet22_', 'bfr_autonet32_', 'bfr_autonet45_', 'bfr_autonet49_', 'bfr_autonet57_']\n",
      "['autoCreatedSpl2id7', 'autoCreatedSpl2id22', 'bfr_autonet12_', 'bfr_autonet45_', 'bfr_autonet32_', 'bfr_autonet22_', 'bfr_autonet49_', 'bfr_autonet57_']\n",
      "** [16] **\n",
      "['autoCreatedSpl2id7', 'autoCreatedSpl2id22', 'bfr_autonet12_', 'bfr_autonet22_', 'bfr_autonet32_', 'bfr_autonet45_', 'bfr_autonet49_', 'bfr_autonet57_']\n",
      "['autoCreatedSpl2id7', 'autoCreatedSpl2id22', 'bfr_autonet12_', 'bfr_autonet49_', 'bfr_autonet45_', 'bfr_autonet32_', 'bfr_autonet22_', 'bfr_autonet57_']\n",
      "** [17] **\n",
      "['autoCreatedSpl2id7', 'autoCreatedSpl2id22', 'bfr_autonet12_', 'bfr_autonet22_', 'bfr_autonet32_', 'bfr_autonet45_', 'bfr_autonet49_', 'bfr_autonet57_']\n",
      "['autoCreatedSpl2id7', 'autoCreatedSpl2id22', 'bfr_autonet12_', 'bfr_autonet57_', 'bfr_autonet49_', 'bfr_autonet45_', 'bfr_autonet32_', 'bfr_autonet22_']\n",
      "** [19] **\n",
      "['autoCreatedSpl2id7', 'autoCreatedSpl2id22', 'bfr_autonet12_', 'bfr_autonet22_', 'bfr_autonet32_', 'bfr_autonet45_', 'bfr_autonet49_', 'bfr_autonet57_']\n",
      "['autoCreatedSpl2id7', 'autoCreatedSpl2id22', 'bfr_autonet12_', 'bfr_autonet22_', 'bfr_autonet45_', 'bfr_autonet32_', 'bfr_autonet49_', 'bfr_autonet57_']\n",
      "** [20] **\n",
      "['autoCreatedSpl2id7', 'autoCreatedSpl2id22', 'bfr_autonet12_', 'bfr_autonet22_', 'bfr_autonet32_', 'bfr_autonet45_', 'bfr_autonet49_', 'bfr_autonet57_']\n",
      "['autoCreatedSpl2id7', 'autoCreatedSpl2id22', 'bfr_autonet12_', 'bfr_autonet22_', 'bfr_autonet49_', 'bfr_autonet45_', 'bfr_autonet32_', 'bfr_autonet57_']\n",
      "** [21] **\n",
      "['autoCreatedSpl2id7', 'autoCreatedSpl2id22', 'bfr_autonet12_', 'bfr_autonet22_', 'bfr_autonet32_', 'bfr_autonet45_', 'bfr_autonet49_', 'bfr_autonet57_']\n",
      "['autoCreatedSpl2id7', 'autoCreatedSpl2id22', 'bfr_autonet12_', 'bfr_autonet22_', 'bfr_autonet57_', 'bfr_autonet49_', 'bfr_autonet45_', 'bfr_autonet32_']\n",
      "** [23] **\n",
      "['autoCreatedSpl2id7', 'autoCreatedSpl2id22', 'bfr_autonet12_', 'bfr_autonet22_', 'bfr_autonet32_', 'bfr_autonet45_', 'bfr_autonet49_', 'bfr_autonet57_']\n",
      "['autoCreatedSpl2id7', 'autoCreatedSpl2id22', 'bfr_autonet12_', 'bfr_autonet22_', 'bfr_autonet32_', 'bfr_autonet49_', 'bfr_autonet45_', 'bfr_autonet57_']\n",
      "** [24] **\n",
      "['autoCreatedSpl2id7', 'autoCreatedSpl2id22', 'bfr_autonet12_', 'bfr_autonet22_', 'bfr_autonet32_', 'bfr_autonet45_', 'bfr_autonet49_', 'bfr_autonet57_']\n",
      "['autoCreatedSpl2id7', 'autoCreatedSpl2id22', 'bfr_autonet12_', 'bfr_autonet22_', 'bfr_autonet32_', 'bfr_autonet57_', 'bfr_autonet49_', 'bfr_autonet45_']\n",
      "** [26] **\n",
      "['autoCreatedSpl2id7', 'autoCreatedSpl2id22', 'bfr_autonet12_', 'bfr_autonet22_', 'bfr_autonet32_', 'bfr_autonet45_', 'bfr_autonet49_', 'bfr_autonet57_']\n",
      "['autoCreatedSpl2id7', 'autoCreatedSpl2id22', 'bfr_autonet12_', 'bfr_autonet22_', 'bfr_autonet32_', 'bfr_autonet45_', 'bfr_autonet57_', 'bfr_autonet49_']\n",
      "計算回数 : 28回\n"
     ]
    }
   ],
   "source": [
    "from pprint import pprint\n",
    "import itertools as it\n",
    "l = 5\n",
    "x_org = x[l]\n",
    "x_new = x[l].copy()\n",
    "print(x[l])\n",
    "\n",
    "next_edge = lambda k:k+1 if k+1<len(x[l]) else 0\n",
    "\n",
    "for i,(cell1,cell2) in enumerate(it.combinations(x[l],2)):\n",
    "    x_cand = x[l].copy()\n",
    "    # edge1 = (edge1_1,edge1_2), edge2 = (edge2_1,edge2_2)\n",
    "    edge1_1 = x_org.index(cell1)\n",
    "    edge1_2 = next_edge(edge1_1)\n",
    "    edge2_1 = x_org.index(cell2)\n",
    "    # edge2_2 = next_edge(edge2_1)\n",
    "    if not edge1_2 == edge2_1:\n",
    "        print(f'** [{i}] **')\n",
    "        x1 = x_org[edge1_2:edge2_1+1]\n",
    "        # reverse x1\n",
    "        x_cand[edge1_2:edge2_1+1] = x1[::-1]\n",
    "        print(x_cand)\n",
    "\n",
    "print(f'計算回数 : {int(len(x[l])*(len(x[l])-1)/2)}回')"
   ]
  },
  {
   "cell_type": "code",
   "execution_count": 6,
   "metadata": {},
   "outputs": [
    {
     "data": {
      "text/plain": [
       "[['1_in_0', '1_in_1', '1_in_2', '1_in_3', '1_in_4'],\n",
       " ['2_spl2_1', '2_spl2_2', '2_spl2_3', '2_spl2_4'],\n",
       " ['3_bfr_0', '3_spl2_1', '3_spl2_2', '3_maj_3', '3_maj_4'],\n",
       " ['4_bfr_0', '4_bfr_1', '4_bfr_2', '4_spl2_3', '4_spl3_4', '4_or_5'],\n",
       " ['5_bfr_0', '5_spl3_1', '5_spl3_2', '5_maj_3', '5_maj_4'],\n",
       " ['6_bfr_0', '6_bfr_1', '6_spl2_2', '6_spl3_3', '6_or_4', '6_maj_5'],\n",
       " ['7_bfr_0',\n",
       "  '7_bfr_1',\n",
       "  '7_spl2_2',\n",
       "  '7_spl2_3',\n",
       "  '7_spl3_4',\n",
       "  '7_spl3_5',\n",
       "  '7_spl3_6',\n",
       "  '7_or_7'],\n",
       " ['8_spl3_0',\n",
       "  '8_spl3_1',\n",
       "  '8_spl3_2',\n",
       "  '8_spl3_3',\n",
       "  '8_maj_4',\n",
       "  '8_maj_5',\n",
       "  '8_maj_6',\n",
       "  '8_maj_7'],\n",
       " ['9_spl2_0',\n",
       "  '9_or_1',\n",
       "  '9_or_2',\n",
       "  '9_or_3',\n",
       "  '9_or_4',\n",
       "  '9_or_5',\n",
       "  '9_or_6',\n",
       "  '9_maj_7'],\n",
       " ['10_spl3_0', '10_spl3_1', '10_spl3_2', '10_maj_3', '10_maj_4'],\n",
       " ['11_bfr_0',\n",
       "  '11_bfr_1',\n",
       "  '11_spl3_2',\n",
       "  '11_spl3_3',\n",
       "  '11_or_4',\n",
       "  '11_or_5',\n",
       "  '11_maj_6'],\n",
       " ['12_spl3_0', '12_spl3_1', '12_maj_2', '12_maj_3', '12_maj_4'],\n",
       " ['13_bfr_0', '13_spl2_1', '13_spl3_2', '13_or_3', '13_or_4', '13_or_5'],\n",
       " ['14_spl2_0', '14_spl2_1', '14_or_2', '14_or_3', '14_maj_4'],\n",
       " ['15_bfr_0',\n",
       "  '15_bfr_1',\n",
       "  '15_spl3_2',\n",
       "  '15_spl3_3',\n",
       "  '15_spl3_4',\n",
       "  '15_spl3_5',\n",
       "  '15_spl3_6'],\n",
       " ['16_bfr_0',\n",
       "  '16_bfr_1',\n",
       "  '16_spl3_2',\n",
       "  '16_spl3_3',\n",
       "  '16_spl3_4',\n",
       "  '16_maj_5',\n",
       "  '16_maj_6',\n",
       "  '16_maj_7',\n",
       "  '16_maj_8'],\n",
       " ['17_maj_0', '17_maj_1', '17_maj_2', '17_maj_3', '17_maj_4'],\n",
       " ['18_out_0', '18_out_1', '18_out_2', '18_out_3', '18_out_4']]"
      ]
     },
     "execution_count": 6,
     "metadata": {},
     "output_type": "execute_result"
    }
   ],
   "source": [
    "x = [ _dom for _dom in domain.values() ]\n",
    "x"
   ]
  },
  {
   "cell_type": "code",
   "execution_count": 9,
   "metadata": {},
   "outputs": [
    {
     "name": "stdout",
     "output_type": "stream",
     "text": [
      "output count: 5593\n",
      "output evals: 22372\n"
     ]
    }
   ],
   "source": [
    "import itertools\n",
    "\n",
    "i = 0\n",
    "for (layer1, layer2) in itertools.combinations(x,2):\n",
    "    for cell1 in layer1:\n",
    "        for cell2 in layer2:\n",
    "            # print(f'{i}: {cell1} - {cell2}')\n",
    "            i += 1\n",
    "\n",
    "print(f'output count: {i}')\n",
    "print(f'output evals: {i*4}')"
   ]
  },
  {
   "cell_type": "code",
   "execution_count": 9,
   "metadata": {},
   "outputs": [
    {
     "data": {
      "text/plain": [
       "array([1, 3])"
      ]
     },
     "execution_count": 9,
     "metadata": {},
     "output_type": "execute_result"
    }
   ],
   "source": [
    "swap = np.random.choice(len(x[0]), 2, replace=False)\n",
    "swap.sort()\n",
    "swap"
   ]
  },
  {
   "cell_type": "code",
   "execution_count": 23,
   "metadata": {},
   "outputs": [
    {
     "data": {
      "text/plain": [
       "[['18_out_1', '18_out_2', '18_out_3', '18_out_0', '18_out_4'],\n",
       " ['17_maj_3', '17_maj_2', '17_maj_1', '17_maj_0', '17_maj_4'],\n",
       " ['16_maj_7',\n",
       "  '16_bfr_0',\n",
       "  '16_spl3_3',\n",
       "  '16_spl3_2',\n",
       "  '16_bfr_1',\n",
       "  '16_maj_6',\n",
       "  '16_maj_5',\n",
       "  '16_maj_8',\n",
       "  '16_spl3_4'],\n",
       " ['15_bfr_0',\n",
       "  '15_spl3_6',\n",
       "  '15_spl3_5',\n",
       "  '15_spl3_4',\n",
       "  '15_spl3_2',\n",
       "  '15_bfr_1',\n",
       "  '15_spl3_3'],\n",
       " ['14_or_2', '14_spl2_1', '14_maj_4', '14_spl2_0', '14_or_3'],\n",
       " ['13_or_4', '13_or_5', '13_spl3_2', '13_or_3', '13_spl2_1', '13_bfr_0'],\n",
       " ['12_maj_2', '12_maj_3', '12_spl3_0', '12_spl3_1', '12_maj_4'],\n",
       " ['11_or_5',\n",
       "  '11_spl3_3',\n",
       "  '11_bfr_0',\n",
       "  '11_maj_6',\n",
       "  '11_bfr_1',\n",
       "  '11_or_4',\n",
       "  '11_spl3_2'],\n",
       " ['10_spl3_0', '10_spl3_1', '10_maj_4', '10_spl3_2', '10_maj_3'],\n",
       " ['9_spl2_0',\n",
       "  '9_or_4',\n",
       "  '9_or_1',\n",
       "  '9_maj_7',\n",
       "  '9_or_5',\n",
       "  '9_or_3',\n",
       "  '9_or_6',\n",
       "  '9_or_2'],\n",
       " ['8_maj_4',\n",
       "  '8_spl3_0',\n",
       "  '8_spl3_2',\n",
       "  '8_maj_5',\n",
       "  '8_spl3_1',\n",
       "  '8_spl3_3',\n",
       "  '8_maj_7',\n",
       "  '8_maj_6'],\n",
       " ['7_spl3_4',\n",
       "  '7_spl3_6',\n",
       "  '7_or_7',\n",
       "  '7_bfr_0',\n",
       "  '7_bfr_1',\n",
       "  '7_spl2_2',\n",
       "  '7_spl2_3',\n",
       "  '7_spl3_5'],\n",
       " ['6_spl2_2', '6_spl3_3', '6_bfr_1', '6_bfr_0', '6_maj_5', '6_or_4'],\n",
       " ['5_spl3_1', '5_spl3_2', '5_maj_4', '5_bfr_0', '5_maj_3'],\n",
       " ['4_bfr_2', '4_or_5', '4_spl2_3', '4_bfr_1', '4_bfr_0', '4_spl3_4'],\n",
       " ['3_maj_4', '3_spl2_1', '3_bfr_0', '3_maj_3', '3_spl2_2'],\n",
       " ['2_spl2_4', '2_spl2_2', '2_spl2_3', '2_spl2_1'],\n",
       " ['1_in_1', '1_in_2', '1_in_0', '1_in_4', '1_in_3']]"
      ]
     },
     "execution_count": 23,
     "metadata": {},
     "output_type": "execute_result"
    }
   ],
   "source": [
    "x[::-1]"
   ]
  },
  {
   "cell_type": "code",
   "execution_count": 24,
   "metadata": {},
   "outputs": [
    {
     "data": {
      "text/plain": [
       "['1_in_2', '1_in_0', '1_in_4']"
      ]
     },
     "execution_count": 24,
     "metadata": {},
     "output_type": "execute_result"
    }
   ],
   "source": [
    "x[0][swap[0]:swap[1]+1]"
   ]
  },
  {
   "cell_type": "code",
   "execution_count": 186,
   "metadata": {},
   "outputs": [],
   "source": [
    "s1 = x[swap[0]:swap[1]+1]\n",
    "s2 = x[swap[0]:swap[1]+1]\n",
    "x_new = np.empty(0)\n",
    "for p1 in x:\n",
    "    if not p1 in s1:\n",
    "        for p2 in y:\n",
    "            if not p2 in s2:\n",
    "                x_new = np.append(x_new,p2)\n",
    "                s2 = np.append(s2,p2)\n",
    "                break\n",
    "    else:\n",
    "        x_new = np.append(x_new,p1)"
   ]
  },
  {
   "cell_type": "code",
   "execution_count": 187,
   "metadata": {},
   "outputs": [
    {
     "data": {
      "text/plain": [
       "array(['1_in_3', '1_in_1', '1_in_2', '1_in_0', '1_in_4'], dtype='<U32')"
      ]
     },
     "execution_count": 187,
     "metadata": {},
     "output_type": "execute_result"
    }
   ],
   "source": [
    "x_new"
   ]
  },
  {
   "cell_type": "markdown",
   "metadata": {},
   "source": [
    "## Debug"
   ]
  },
  {
   "cell_type": "code",
   "execution_count": 1,
   "metadata": {},
   "outputs": [
    {
     "name": "stdout",
     "output_type": "stream",
     "text": [
      "\t\t[ Problem : 16-bitAdder ]\t\t\n"
     ]
    }
   ],
   "source": [
    "import config as cf\n",
    "import function as fc\n",
    "import logger as lg\n",
    "import optimizer as op\n",
    "from logger import Stdio\n",
    "\n",
    "Stdio.moveWorkingDirectory()\n",
    "cnf = cf.Configuration()\n",
    "cnf.setRandomSeed()\n",
    "log = lg.LogData(cnf, cnf.prob_name[0])\n",
    "fnc = fc.Function(cnf, cnf.prob_name[0])\n",
    "# opt = eval('op.{}(cnf, fnc)'.format(cnf.opt_name.replace('-','')))"
   ]
  },
  {
   "cell_type": "code",
   "execution_count": 10,
   "metadata": {},
   "outputs": [
    {
     "data": {
      "text/plain": [
       "'Microsoft Windows 11 Home'"
      ]
     },
     "execution_count": 10,
     "metadata": {},
     "output_type": "execute_result"
    }
   ],
   "source": [
    "import yaml\n",
    "\n",
    "with open(r\"C:\\Users\\taichi\\Documents\\SourceCode\\AQFPLogic-Optimization\\_result\\result_ver3.3_debug-mode_2021-11-24_15-35-08\\config.yml\") as file:\n",
    "    yml = yaml.safe_load(file)\n",
    "\n",
    "yml['Spec']['OS']['Name']"
   ]
  },
  {
   "cell_type": "code",
   "execution_count": 16,
   "metadata": {},
   "outputs": [
    {
     "name": "stdout",
     "output_type": "stream",
     "text": [
      "{'prob_name': ['16-bitAdder', '16-bitMultiplier'], 'switch_timing': [0.0, 0.1, 0.2, 0.3, 0.4, 0.5, 0.6, 0.7, 0.8, 0.9, 1.0]}\n",
      "22\n"
     ]
    },
    {
     "data": {
      "text/plain": [
       "<itertools.product at 0x29ee3dbb440>"
      ]
     },
     "execution_count": 16,
     "metadata": {},
     "output_type": "execute_result"
    }
   ],
   "source": [
    "import itertools as it\n",
    "\n",
    "no_loop_list = []\n",
    "loop_params = {}\n",
    "# loop_num = 1\n",
    "\n",
    "for var_name,var_value in vars(cnf).items():\n",
    "    if isinstance(var_value, list) and not var_name in no_loop_list:\n",
    "        loop_params[var_name] = var_value.copy()\n",
    "        # loop_num *= len(var_value)\n",
    "\n",
    "looper = it.product(*loop_params.values())\n",
    "loop_num = len(list(looper))\n",
    "\n",
    "print(loop_params)\n",
    "print(loop_num)\n",
    "looper"
   ]
  },
  {
   "cell_type": "code",
   "execution_count": 40,
   "metadata": {},
   "outputs": [
    {
     "data": {
      "text/plain": [
       "function"
      ]
     },
     "execution_count": 40,
     "metadata": {},
     "output_type": "execute_result"
    }
   ],
   "source": [
    "type(vars(cnf)['dirname']['trial'])"
   ]
  },
  {
   "cell_type": "code",
   "execution_count": 12,
   "metadata": {},
   "outputs": [
    {
     "name": "stdout",
     "output_type": "stream",
     "text": [
      "('switch_timing',) = (0.0,)\n",
      "('switch_timing',) = (0.1,)\n",
      "('switch_timing',) = (0.2,)\n",
      "('switch_timing',) = (0.3,)\n",
      "('switch_timing',) = (0.4,)\n",
      "('switch_timing',) = (0.5,)\n",
      "('switch_timing',) = (0.6,)\n",
      "('switch_timing',) = (0.7,)\n",
      "('switch_timing',) = (0.8,)\n",
      "('switch_timing',) = (0.9,)\n",
      "('switch_timing',) = (1.0,)\n"
     ]
    }
   ],
   "source": [
    "loop_param_key = tuple(loop_params.keys())\n",
    "for param_comb in it.product(*loop_params.values()):\n",
    "    print(f'{loop_param_key} = {param_comb}')"
   ]
  },
  {
   "cell_type": "code",
   "execution_count": 3,
   "metadata": {},
   "outputs": [
    {
     "name": "stdout",
     "output_type": "stream",
     "text": [
      "import group from group_EG4_test.csv ...\n"
     ]
    },
    {
     "ename": "TypeError",
     "evalue": "list indices must be integers or slices, not NoneType",
     "output_type": "error",
     "traceback": [
      "\u001b[1;31m---------------------------------------------------------------------------\u001b[0m",
      "\u001b[1;31mTypeError\u001b[0m                                 Traceback (most recent call last)",
      "\u001b[1;32m<ipython-input-3-676c61ef8e82>\u001b[0m in \u001b[0;36m<module>\u001b[1;34m\u001b[0m\n\u001b[1;32m----> 1\u001b[1;33m \u001b[0mopt\u001b[0m\u001b[1;33m.\u001b[0m\u001b[0minitialize\u001b[0m\u001b[1;33m(\u001b[0m\u001b[1;32mFalse\u001b[0m\u001b[1;33m)\u001b[0m\u001b[1;33m\u001b[0m\u001b[1;33m\u001b[0m\u001b[0m\n\u001b[0m",
      "\u001b[1;32mc:\\Users\\taichi\\Documents\\SourceCode\\AQFPLogic-Optimization\\optimizer\\optimizer.py\u001b[0m in \u001b[0;36minitialize\u001b[1;34m(self, blank_opt)\u001b[0m\n\u001b[0;32m    436\u001b[0m         x = self.encodeCC(\n\u001b[0;32m    437\u001b[0m             [self.pop.x[_pop][0],0,self.pop.x_best])\n\u001b[1;32m--> 438\u001b[1;33m         \u001b[0mself\u001b[0m\u001b[1;33m.\u001b[0m\u001b[0mpop\u001b[0m\u001b[1;33m.\u001b[0m\u001b[0mf\u001b[0m\u001b[1;33m[\u001b[0m\u001b[0m_pop\u001b[0m\u001b[1;33m]\u001b[0m \u001b[1;33m=\u001b[0m \u001b[0mself\u001b[0m\u001b[1;33m.\u001b[0m\u001b[0mgetFitness\u001b[0m\u001b[1;33m(\u001b[0m\u001b[0mself\u001b[0m\u001b[1;33m.\u001b[0m\u001b[0mencodeCC\u001b[0m\u001b[1;33m(\u001b[0m\u001b[0mself\u001b[0m\u001b[1;33m.\u001b[0m\u001b[0mpop\u001b[0m\u001b[1;33m.\u001b[0m\u001b[0mx\u001b[0m\u001b[1;33m[\u001b[0m\u001b[0m_pop\u001b[0m\u001b[1;33m]\u001b[0m\u001b[1;33m)\u001b[0m\u001b[1;33m)\u001b[0m\u001b[1;33m\u001b[0m\u001b[1;33m\u001b[0m\u001b[0m\n\u001b[0m\u001b[0;32m    439\u001b[0m         \u001b[1;31m# update x_best, f_best\u001b[0m\u001b[1;33m\u001b[0m\u001b[1;33m\u001b[0m\u001b[1;33m\u001b[0m\u001b[0m\n\u001b[0;32m    440\u001b[0m         \u001b[0mbest_index\u001b[0m \u001b[1;33m=\u001b[0m \u001b[0mself\u001b[0m\u001b[1;33m.\u001b[0m\u001b[0mgetBestIndices\u001b[0m\u001b[1;33m(\u001b[0m\u001b[0mself\u001b[0m\u001b[1;33m.\u001b[0m\u001b[0mpop\u001b[0m\u001b[1;33m.\u001b[0m\u001b[0mf\u001b[0m\u001b[1;33m,\u001b[0m\u001b[1;36m1\u001b[0m\u001b[1;33m)\u001b[0m\u001b[1;33m\u001b[0m\u001b[1;33m\u001b[0m\u001b[0m\n",
      "\u001b[1;32mc:\\Users\\taichi\\Documents\\SourceCode\\AQFPLogic-Optimization\\optimizer\\optimizer.py\u001b[0m in \u001b[0;36mgetFitness\u001b[1;34m(self, x)\u001b[0m\n\u001b[0;32m    695\u001b[0m         '''\n\u001b[0;32m    696\u001b[0m         \u001b[1;32massert\u001b[0m \u001b[0mlen\u001b[0m\u001b[1;33m(\u001b[0m\u001b[0mx\u001b[0m\u001b[1;33m)\u001b[0m\u001b[1;33m==\u001b[0m\u001b[0mself\u001b[0m\u001b[1;33m.\u001b[0m\u001b[0mfnc\u001b[0m\u001b[1;33m.\u001b[0m\u001b[0mlayers\u001b[0m\u001b[1;33m,\u001b[0m \u001b[1;34m'Error: The number of layers does not match.'\u001b[0m\u001b[1;33m\u001b[0m\u001b[1;33m\u001b[0m\u001b[0m\n\u001b[1;32m--> 697\u001b[1;33m         \u001b[0mx_decode\u001b[0m \u001b[1;33m=\u001b[0m \u001b[0mself\u001b[0m\u001b[1;33m.\u001b[0m\u001b[0mdecode\u001b[0m\u001b[1;33m(\u001b[0m\u001b[0mx\u001b[0m\u001b[1;33m)\u001b[0m\u001b[1;33m\u001b[0m\u001b[1;33m\u001b[0m\u001b[0m\n\u001b[0m\u001b[0;32m    698\u001b[0m         \u001b[1;31m# x_decode = cp.deepcopy(x)\u001b[0m\u001b[1;33m\u001b[0m\u001b[1;33m\u001b[0m\u001b[1;33m\u001b[0m\u001b[0m\n\u001b[0;32m    699\u001b[0m         \u001b[0mx_depth\u001b[0m \u001b[1;33m=\u001b[0m \u001b[0mself\u001b[0m\u001b[1;33m.\u001b[0m\u001b[0mgetDepth\u001b[0m\u001b[1;33m(\u001b[0m\u001b[0mx_decode\u001b[0m\u001b[1;33m)\u001b[0m\u001b[1;33m\u001b[0m\u001b[1;33m\u001b[0m\u001b[0m\n",
      "\u001b[1;32mc:\\Users\\taichi\\Documents\\SourceCode\\AQFPLogic-Optimization\\optimizer\\optimizer.py\u001b[0m in \u001b[0;36mdecode\u001b[1;34m(self, x_pos)\u001b[0m\n\u001b[0;32m    556\u001b[0m             \u001b[0mx_layer_decode\u001b[0m \u001b[1;33m=\u001b[0m \u001b[1;33m[\u001b[0m\u001b[1;32mNone\u001b[0m\u001b[1;33m]\u001b[0m\u001b[1;33m*\u001b[0m\u001b[0mdimension\u001b[0m\u001b[1;33m\u001b[0m\u001b[1;33m\u001b[0m\u001b[0m\n\u001b[0;32m    557\u001b[0m             \u001b[1;32mfor\u001b[0m \u001b[0m_index\u001b[0m\u001b[1;33m,\u001b[0m\u001b[0mx_element\u001b[0m \u001b[1;32min\u001b[0m \u001b[0menumerate\u001b[0m\u001b[1;33m(\u001b[0m\u001b[0mx_layer\u001b[0m\u001b[1;33m)\u001b[0m\u001b[1;33m:\u001b[0m\u001b[1;33m\u001b[0m\u001b[1;33m\u001b[0m\u001b[0m\n\u001b[1;32m--> 558\u001b[1;33m                 \u001b[0mx_layer_decode\u001b[0m\u001b[1;33m[\u001b[0m\u001b[0mx_element\u001b[0m\u001b[1;33m]\u001b[0m \u001b[1;33m=\u001b[0m \u001b[0mdomain\u001b[0m\u001b[1;33m[\u001b[0m\u001b[0m_index\u001b[0m\u001b[1;33m]\u001b[0m  \u001b[1;32mif\u001b[0m \u001b[0m_index\u001b[0m \u001b[1;33m<\u001b[0m \u001b[0mlen\u001b[0m\u001b[1;33m(\u001b[0m\u001b[0mdomain\u001b[0m\u001b[1;33m)\u001b[0m \u001b[1;32melse\u001b[0m \u001b[0mself\u001b[0m\u001b[1;33m.\u001b[0m\u001b[0mfnc\u001b[0m\u001b[1;33m.\u001b[0m\u001b[0mblank_string\u001b[0m\u001b[1;33m\u001b[0m\u001b[1;33m\u001b[0m\u001b[0m\n\u001b[0m\u001b[0;32m    559\u001b[0m             \u001b[1;31m# type casting\u001b[0m\u001b[1;33m\u001b[0m\u001b[1;33m\u001b[0m\u001b[1;33m\u001b[0m\u001b[0m\n\u001b[0;32m    560\u001b[0m             \u001b[0mx_decode\u001b[0m\u001b[1;33m.\u001b[0m\u001b[0mappend\u001b[0m\u001b[1;33m(\u001b[0m\u001b[0mx_layer_decode\u001b[0m\u001b[1;33m)\u001b[0m\u001b[1;33m\u001b[0m\u001b[1;33m\u001b[0m\u001b[0m\n",
      "\u001b[1;31mTypeError\u001b[0m: list indices must be integers or slices, not NoneType"
     ]
    }
   ],
   "source": [
    "opt.initialize(False)"
   ]
  },
  {
   "cell_type": "code",
   "execution_count": 5,
   "metadata": {},
   "outputs": [
    {
     "data": {
      "text/plain": [
       "{1: 24,\n",
       " 2: 20,\n",
       " 3: 5,\n",
       " 4: 6,\n",
       " 5: 5,\n",
       " 6: 6,\n",
       " 7: 8,\n",
       " 8: 8,\n",
       " 9: 8,\n",
       " 10: 5,\n",
       " 11: 7,\n",
       " 12: 5,\n",
       " 13: 6,\n",
       " 14: 5,\n",
       " 15: 7,\n",
       " 16: 9,\n",
       " 17: 5,\n",
       " 18: 5}"
      ]
     },
     "execution_count": 5,
     "metadata": {},
     "output_type": "execute_result"
    }
   ],
   "source": [
    "opt.cell_size"
   ]
  },
  {
   "cell_type": "code",
   "execution_count": 10,
   "metadata": {},
   "outputs": [
    {
     "data": {
      "text/plain": [
       "[0, 1, 2, 3, 4, 5]"
      ]
     },
     "execution_count": 10,
     "metadata": {},
     "output_type": "execute_result"
    }
   ],
   "source": [
    "a = list(range(opt.cell_size[4]))\n",
    "a"
   ]
  },
  {
   "cell_type": "code",
   "execution_count": null,
   "metadata": {},
   "outputs": [],
   "source": []
  },
  {
   "cell_type": "markdown",
   "metadata": {},
   "source": [
    "## Watchdog"
   ]
  },
  {
   "cell_type": "code",
   "execution_count": 2,
   "metadata": {},
   "outputs": [
    {
     "name": "stdout",
     "output_type": "stream",
     "text": [
      "Requirement already satisfied: watchdog in c:\\users\\taichi\\appdata\\local\\programs\\python\\python39\\lib\\site-packages (2.1.3)\n"
     ]
    },
    {
     "name": "stderr",
     "output_type": "stream",
     "text": [
      "WARNING: Ignoring invalid distribution -ywin32 (c:\\users\\taichi\\appdata\\roaming\\python\\python39\\site-packages)\n",
      "WARNING: Ignoring invalid distribution -ywin32 (c:\\users\\taichi\\appdata\\roaming\\python\\python39\\site-packages)\n",
      "WARNING: Ignoring invalid distribution -ywin32 (c:\\users\\taichi\\appdata\\roaming\\python\\python39\\site-packages)\n",
      "WARNING: Ignoring invalid distribution -ywin32 (c:\\users\\taichi\\appdata\\roaming\\python\\python39\\site-packages)\n",
      "WARNING: Ignoring invalid distribution -ywin32 (c:\\users\\taichi\\appdata\\roaming\\python\\python39\\site-packages)\n"
     ]
    }
   ],
   "source": [
    "!py -3.9 -m pip install watchdog"
   ]
  },
  {
   "cell_type": "code",
   "execution_count": 1,
   "metadata": {},
   "outputs": [],
   "source": [
    "from watchdog.observers import Observer\n",
    "from watchdog.events import FileSystemEventHandler\n",
    "import os\n",
    "import time as tm\n",
    "\n",
    "class ChangeHandler(FileSystemEventHandler):\n",
    "    def on_created(self, event):\n",
    "        path = event.src_path\n",
    "        print(f'Create File \"{path}\"')"
   ]
  },
  {
   "cell_type": "code",
   "execution_count": 3,
   "metadata": {},
   "outputs": [
    {
     "ename": "TypeError",
     "evalue": "_getfullpathname: path should be string, bytes or os.PathLike, not builtin_function_or_method",
     "output_type": "error",
     "traceback": [
      "\u001b[1;31m---------------------------------------------------------------------------\u001b[0m",
      "\u001b[1;31mTypeError\u001b[0m                                 Traceback (most recent call last)",
      "\u001b[1;32m~\\AppData\\Local\\Temp/ipykernel_11628/2652774695.py\u001b[0m in \u001b[0;36m<module>\u001b[1;34m\u001b[0m\n\u001b[0;32m      1\u001b[0m \u001b[1;31m# monitor path (current dir)\u001b[0m\u001b[1;33m\u001b[0m\u001b[1;33m\u001b[0m\u001b[1;33m\u001b[0m\u001b[0m\n\u001b[1;32m----> 2\u001b[1;33m \u001b[0mmonitor_path\u001b[0m \u001b[1;33m=\u001b[0m \u001b[0mos\u001b[0m\u001b[1;33m.\u001b[0m\u001b[0mpath\u001b[0m\u001b[1;33m.\u001b[0m\u001b[0mdirname\u001b[0m\u001b[1;33m(\u001b[0m\u001b[0mos\u001b[0m\u001b[1;33m.\u001b[0m\u001b[0mpath\u001b[0m\u001b[1;33m.\u001b[0m\u001b[0mabspath\u001b[0m\u001b[1;33m(\u001b[0m\u001b[0mos\u001b[0m\u001b[1;33m.\u001b[0m\u001b[0mgetcwd\u001b[0m\u001b[1;33m)\u001b[0m\u001b[1;33m)\u001b[0m\u001b[1;33m\u001b[0m\u001b[1;33m\u001b[0m\u001b[0m\n\u001b[0m\u001b[0;32m      3\u001b[0m \u001b[1;33m\u001b[0m\u001b[0m\n\u001b[0;32m      4\u001b[0m \u001b[1;31m# create handler/observer\u001b[0m\u001b[1;33m\u001b[0m\u001b[1;33m\u001b[0m\u001b[1;33m\u001b[0m\u001b[0m\n\u001b[0;32m      5\u001b[0m \u001b[0mevent_handler\u001b[0m \u001b[1;33m=\u001b[0m \u001b[0mChangeHandler\u001b[0m\u001b[1;33m(\u001b[0m\u001b[1;33m)\u001b[0m\u001b[1;33m\u001b[0m\u001b[1;33m\u001b[0m\u001b[0m\n",
      "\u001b[1;32m~\\AppData\\Local\\Programs\\Python\\Python39\\lib\\ntpath.py\u001b[0m in \u001b[0;36mabspath\u001b[1;34m(path)\u001b[0m\n\u001b[0;32m    525\u001b[0m         \u001b[1;34m\"\"\"Return the absolute version of a path.\"\"\"\u001b[0m\u001b[1;33m\u001b[0m\u001b[1;33m\u001b[0m\u001b[0m\n\u001b[0;32m    526\u001b[0m         \u001b[1;32mtry\u001b[0m\u001b[1;33m:\u001b[0m\u001b[1;33m\u001b[0m\u001b[1;33m\u001b[0m\u001b[0m\n\u001b[1;32m--> 527\u001b[1;33m             \u001b[1;32mreturn\u001b[0m \u001b[0mnormpath\u001b[0m\u001b[1;33m(\u001b[0m\u001b[0m_getfullpathname\u001b[0m\u001b[1;33m(\u001b[0m\u001b[0mpath\u001b[0m\u001b[1;33m)\u001b[0m\u001b[1;33m)\u001b[0m\u001b[1;33m\u001b[0m\u001b[1;33m\u001b[0m\u001b[0m\n\u001b[0m\u001b[0;32m    528\u001b[0m         \u001b[1;32mexcept\u001b[0m \u001b[1;33m(\u001b[0m\u001b[0mOSError\u001b[0m\u001b[1;33m,\u001b[0m \u001b[0mValueError\u001b[0m\u001b[1;33m)\u001b[0m\u001b[1;33m:\u001b[0m\u001b[1;33m\u001b[0m\u001b[1;33m\u001b[0m\u001b[0m\n\u001b[0;32m    529\u001b[0m             \u001b[1;32mreturn\u001b[0m \u001b[0m_abspath_fallback\u001b[0m\u001b[1;33m(\u001b[0m\u001b[0mpath\u001b[0m\u001b[1;33m)\u001b[0m\u001b[1;33m\u001b[0m\u001b[1;33m\u001b[0m\u001b[0m\n",
      "\u001b[1;31mTypeError\u001b[0m: _getfullpathname: path should be string, bytes or os.PathLike, not builtin_function_or_method"
     ]
    }
   ],
   "source": [
    "# monitor path (current dir)\n",
    "monitor_path = os.path.dirname(os.path.abspath(os.getcwd))\n",
    "\n",
    "# create handler/observer\n",
    "event_handler = ChangeHandler()\n",
    "observer = Observer()\n",
    "\n",
    "# observe dir\n",
    "observer.schedule(event_handler, monitor_path, recursive=True)\n",
    "observer.start()\n",
    "print('Start Watchdog')\n",
    "\n",
    "try:\n",
    "    while True:\n",
    "        tm.sleep(0.01)\n",
    "except KeyboardInterrupt:\n",
    "    observer.stop()\n",
    "    observer.join()\n",
    "    print('Exit Watchdog')\n",
    "\n",
    "print('Process Finish')"
   ]
  },
  {
   "cell_type": "markdown",
   "metadata": {},
   "source": [
    "## new fitness"
   ]
  },
  {
   "cell_type": "code",
   "execution_count": 12,
   "metadata": {},
   "outputs": [
    {
     "data": {
      "text/html": [
       "<div>\n",
       "<style scoped>\n",
       "    .dataframe tbody tr th:only-of-type {\n",
       "        vertical-align: middle;\n",
       "    }\n",
       "\n",
       "    .dataframe tbody tr th {\n",
       "        vertical-align: top;\n",
       "    }\n",
       "\n",
       "    .dataframe thead th {\n",
       "        text-align: right;\n",
       "    }\n",
       "</style>\n",
       "<table border=\"1\" class=\"dataframe\">\n",
       "  <thead>\n",
       "    <tr style=\"text-align: right;\">\n",
       "      <th></th>\n",
       "      <th>wireLength</th>\n",
       "      <th>violationWireLength</th>\n",
       "    </tr>\n",
       "    <tr>\n",
       "      <th>key</th>\n",
       "      <th></th>\n",
       "      <th></th>\n",
       "    </tr>\n",
       "  </thead>\n",
       "  <tbody>\n",
       "    <tr>\n",
       "      <th>-1</th>\n",
       "      <td>575</td>\n",
       "      <td>10000</td>\n",
       "    </tr>\n",
       "    <tr>\n",
       "      <th>-2</th>\n",
       "      <td>535</td>\n",
       "      <td>10000</td>\n",
       "    </tr>\n",
       "    <tr>\n",
       "      <th>-3</th>\n",
       "      <td>525</td>\n",
       "      <td>10000</td>\n",
       "    </tr>\n",
       "    <tr>\n",
       "      <th>-4</th>\n",
       "      <td>625</td>\n",
       "      <td>10000</td>\n",
       "    </tr>\n",
       "    <tr>\n",
       "      <th>-5</th>\n",
       "      <td>485</td>\n",
       "      <td>10000</td>\n",
       "    </tr>\n",
       "    <tr>\n",
       "      <th>...</th>\n",
       "      <td>...</td>\n",
       "      <td>...</td>\n",
       "    </tr>\n",
       "    <tr>\n",
       "      <th>9_3_0</th>\n",
       "      <td>275</td>\n",
       "      <td>1000</td>\n",
       "    </tr>\n",
       "    <tr>\n",
       "      <th>9_4_0</th>\n",
       "      <td>235</td>\n",
       "      <td>1000</td>\n",
       "    </tr>\n",
       "    <tr>\n",
       "      <th>9_5_0</th>\n",
       "      <td>325</td>\n",
       "      <td>1000</td>\n",
       "    </tr>\n",
       "    <tr>\n",
       "      <th>9_6_0</th>\n",
       "      <td>205</td>\n",
       "      <td>1000</td>\n",
       "    </tr>\n",
       "    <tr>\n",
       "      <th>9_7_0</th>\n",
       "      <td>425</td>\n",
       "      <td>1000</td>\n",
       "    </tr>\n",
       "  </tbody>\n",
       "</table>\n",
       "<p>173 rows × 2 columns</p>\n",
       "</div>"
      ],
      "text/plain": [
       "       wireLength  violationWireLength\n",
       "key                                   \n",
       "-1            575                10000\n",
       "-2            535                10000\n",
       "-3            525                10000\n",
       "-4            625                10000\n",
       "-5            485                10000\n",
       "...           ...                  ...\n",
       "9_3_0         275                 1000\n",
       "9_4_0         235                 1000\n",
       "9_5_0         325                 1000\n",
       "9_6_0         205                 1000\n",
       "9_7_0         425                 1000\n",
       "\n",
       "[173 rows x 2 columns]"
      ]
     },
     "execution_count": 12,
     "metadata": {},
     "output_type": "execute_result"
    }
   ],
   "source": [
    "output_dat_path = r\"C:\\Users\\taichi\\Documents\\SourceCode\\AQFPLogic-Optimization\\_log\\_output\\test\\dat_test_blank.csv\"\n",
    "\n",
    "df_output_dat = Stdio.readDatabase(output_dat_path, header=None, names=('key', 'wireLength', 'violationWireLength'))\n",
    "df_output_dat"
   ]
  },
  {
   "cell_type": "code",
   "execution_count": 20,
   "metadata": {},
   "outputs": [
    {
     "data": {
      "text/plain": [
       "9215"
      ]
     },
     "execution_count": 20,
     "metadata": {},
     "output_type": "execute_result"
    }
   ],
   "source": [
    "# df_output_dat['wireLength'].values\n",
    "WL = df_output_dat['wireLength'].values\n",
    "VWL = df_output_dat['violationWireLength'].values\n",
    "\n",
    "np.where(WL>VWL, WL-VWL, 0).sum()"
   ]
  }
 ],
 "metadata": {
  "interpreter": {
   "hash": "0805dd3bc4abd16b6e20bac636f53e7d4f4770c0e21016113fc40b9d12b9260a"
  },
  "kernelspec": {
   "display_name": "Python 3.9.5 64-bit",
   "name": "python3"
  },
  "language_info": {
   "codemirror_mode": {
    "name": "ipython",
    "version": 3
   },
   "file_extension": ".py",
   "mimetype": "text/x-python",
   "name": "python",
   "nbconvert_exporter": "python",
   "pygments_lexer": "ipython3",
   "version": "3.9.9"
  },
  "metadata": {
   "interpreter": {
    "hash": "0805dd3bc4abd16b6e20bac636f53e7d4f4770c0e21016113fc40b9d12b9260a"
   }
  },
  "orig_nbformat": 2
 },
 "nbformat": 4,
 "nbformat_minor": 2
}
